{
 "cells": [
  {
   "cell_type": "code",
   "execution_count": 4,
   "metadata": {},
   "outputs": [],
   "source": [
    "from atomgen.models.atomformer import AtomformerConfig\n",
    "from atomgen.models.atomformer import Structure2EnergyAndForces\n",
    "from atomgen.models.atomformer import AtomformerModel"
   ]
  },
  {
   "cell_type": "code",
   "execution_count": 7,
   "metadata": {},
   "outputs": [],
   "source": [
    "config = AtomformerConfig.from_json_file(\"atomgen/models/configs/atomformer-base.json\")\n",
    "model = Structure2EnergyAndForces._from_config(config)"
   ]
  },
  {
   "cell_type": "code",
   "execution_count": 9,
   "metadata": {},
   "outputs": [],
   "source": [
    "model = Structure2EnergyAndForces.from_pretrained(\"/mnt/data2/s2ef_all_10epochs_weights/checkpoint-292950\")"
   ]
  },
  {
   "cell_type": "code",
   "execution_count": 11,
   "metadata": {},
   "outputs": [
    {
     "name": "stderr",
     "output_type": "stream",
     "text": [
      "model.safetensors: 100%|██████████| 482M/482M [05:02<00:00, 1.59MB/s]   \n"
     ]
    },
    {
     "data": {
      "text/plain": [
       "CommitInfo(commit_url='https://huggingface.co/vector-institute/atomformer-base/commit/8877fe3186ceb676b8f8c9de664ab64a23735116', commit_message='Upload Structure2EnergyAndForces', commit_description='', oid='8877fe3186ceb676b8f8c9de664ab64a23735116', pr_url=None, pr_revision=None, pr_num=None)"
      ]
     },
     "execution_count": 11,
     "metadata": {},
     "output_type": "execute_result"
    }
   ],
   "source": [
    "model.push_to_hub(\"vector-institute/atomformer-base\")"
   ]
  },
  {
   "cell_type": "code",
   "execution_count": 2,
   "metadata": {},
   "outputs": [],
   "source": [
    "model = Structure2EnergyAndForces.from_pretrained(\"vector-institute/atomformer-base\")"
   ]
  },
  {
   "cell_type": "code",
   "execution_count": 8,
   "metadata": {},
   "outputs": [],
   "source": [
    "from atomgen.models.configuration_atomformer import AtomformerConfig\n",
    "from atomgen.models.modeling_atomformer import Structure2EnergyAndForces"
   ]
  },
  {
   "cell_type": "code",
   "execution_count": 9,
   "metadata": {},
   "outputs": [
    {
     "ename": "ValueError",
     "evalue": "AutoModelForS2EF is not a valid auto class.",
     "output_type": "error",
     "traceback": [
      "\u001b[0;31m---------------------------------------------------------------------------\u001b[0m",
      "\u001b[0;31mValueError\u001b[0m                                Traceback (most recent call last)",
      "Cell \u001b[0;32mIn[9], line 1\u001b[0m\n\u001b[0;32m----> 1\u001b[0m \u001b[43mStructure2EnergyAndForces\u001b[49m\u001b[38;5;241;43m.\u001b[39;49m\u001b[43mregister_for_auto_class\u001b[49m\u001b[43m(\u001b[49m\u001b[38;5;124;43m\"\u001b[39;49m\u001b[38;5;124;43mAutoModelForS2EF\u001b[39;49m\u001b[38;5;124;43m\"\u001b[39;49m\u001b[43m)\u001b[49m\n",
      "File \u001b[0;32m~/.cache/pypoetry/virtualenvs/atomgen-Z9zDjZ1G-py3.9/lib/python3.9/site-packages/transformers/modeling_utils.py:4280\u001b[0m, in \u001b[0;36mPreTrainedModel.register_for_auto_class\u001b[0;34m(cls, auto_class)\u001b[0m\n\u001b[1;32m   4277\u001b[0m \u001b[38;5;28;01mimport\u001b[39;00m \u001b[38;5;21;01mtransformers\u001b[39;00m\u001b[38;5;21;01m.\u001b[39;00m\u001b[38;5;21;01mmodels\u001b[39;00m\u001b[38;5;21;01m.\u001b[39;00m\u001b[38;5;21;01mauto\u001b[39;00m \u001b[38;5;28;01mas\u001b[39;00m \u001b[38;5;21;01mauto_module\u001b[39;00m\n\u001b[1;32m   4279\u001b[0m \u001b[38;5;28;01mif\u001b[39;00m \u001b[38;5;129;01mnot\u001b[39;00m \u001b[38;5;28mhasattr\u001b[39m(auto_module, auto_class):\n\u001b[0;32m-> 4280\u001b[0m     \u001b[38;5;28;01mraise\u001b[39;00m \u001b[38;5;167;01mValueError\u001b[39;00m(\u001b[38;5;124mf\u001b[39m\u001b[38;5;124m\"\u001b[39m\u001b[38;5;132;01m{\u001b[39;00mauto_class\u001b[38;5;132;01m}\u001b[39;00m\u001b[38;5;124m is not a valid auto class.\u001b[39m\u001b[38;5;124m\"\u001b[39m)\n\u001b[1;32m   4282\u001b[0m \u001b[38;5;28mcls\u001b[39m\u001b[38;5;241m.\u001b[39m_auto_class \u001b[38;5;241m=\u001b[39m auto_class\n",
      "\u001b[0;31mValueError\u001b[0m: AutoModelForS2EF is not a valid auto class."
     ]
    }
   ],
   "source": [
    "Structure2EnergyAndForces.register_for_auto_class(\"AutoModelForS2EF\")"
   ]
  },
  {
   "cell_type": "code",
   "execution_count": 3,
   "metadata": {},
   "outputs": [],
   "source": [
    "AtomformerConfig.register_for_auto_class()\n",
    "AtomformerModel.register_for_auto_class(\"AutoModel\")"
   ]
  },
  {
   "cell_type": "code",
   "execution_count": 2,
   "metadata": {},
   "outputs": [
    {
     "name": "stderr",
     "output_type": "stream",
     "text": [
      "/home/akore/.cache/pypoetry/virtualenvs/atomgen-Z9zDjZ1G-py3.9/lib/python3.9/site-packages/tqdm/auto.py:21: TqdmWarning: IProgress not found. Please update jupyter and ipywidgets. See https://ipywidgets.readthedocs.io/en/stable/user_install.html\n",
      "  from .autonotebook import tqdm as notebook_tqdm\n",
      "A new version of the following files was downloaded from https://huggingface.co/vector-institute/atomformer-base:\n",
      "- configuration_atomformer.py\n",
      ". Make sure to double-check they do not contain any added malicious code. To avoid downloading new versions of the code file, you can pin a revision.\n",
      "A new version of the following files was downloaded from https://huggingface.co/vector-institute/atomformer-base:\n",
      "- modeling_atomformer.py\n",
      ". Make sure to double-check they do not contain any added malicious code. To avoid downloading new versions of the code file, you can pin a revision.\n"
     ]
    }
   ],
   "source": [
    "from transformers import AutoModel\n",
    "\n",
    "model = AutoModel.from_pretrained(\"vector-institute/atomformer-base\", trust_remote_code=True)"
   ]
  },
  {
   "cell_type": "code",
   "execution_count": 12,
   "metadata": {},
   "outputs": [],
   "source": [
    "import torch\n",
    "\n",
    "input_ids = torch.randint(0, 100, (1, 10))\n",
    "coords = torch.randn(1, 10, 3)\n",
    "attention_mask = torch.ones(1, 10)\n",
    "\n",
    "input_ids, coords, attn_mask = torch.randint(0, 100, (1, 10)), torch.randn(1, 10, 3), torch.ones(1, 10)\n",
    "\n",
    "output = model(input_ids, coords=coords, attention_mask=attention_mask)"
   ]
  },
  {
   "cell_type": "code",
   "execution_count": 18,
   "metadata": {},
   "outputs": [
    {
     "data": {
      "text/plain": [
       "(torch.Size([1, 11, 768]), torch.Size([1, 11, 11, 128]))"
      ]
     },
     "execution_count": 18,
     "metadata": {},
     "output_type": "execute_result"
    }
   ],
   "source": [
    "output[0].shape, output[1].shape"
   ]
  },
  {
   "cell_type": "code",
   "execution_count": 6,
   "metadata": {},
   "outputs": [],
   "source": [
    "import torch"
   ]
  },
  {
   "cell_type": "code",
   "execution_count": 5,
   "metadata": {},
   "outputs": [
    {
     "ename": "NameError",
     "evalue": "name 'torch' is not defined",
     "output_type": "error",
     "traceback": [
      "\u001b[0;31m---------------------------------------------------------------------------\u001b[0m",
      "\u001b[0;31mNameError\u001b[0m                                 Traceback (most recent call last)",
      "Cell \u001b[0;32mIn[5], line 1\u001b[0m\n\u001b[0;32m----> 1\u001b[0m model\u001b[38;5;241m.\u001b[39mforward(\u001b[43mtorch\u001b[49m\u001b[38;5;241m.\u001b[39mrandint(\u001b[38;5;241m0\u001b[39m, \u001b[38;5;241m100\u001b[39m, (\u001b[38;5;241m1\u001b[39m, \u001b[38;5;241m10\u001b[39m)))\n",
      "\u001b[0;31mNameError\u001b[0m: name 'torch' is not defined"
     ]
    }
   ],
   "source": [
    "model.forward(torch.randint(0, 100, (1, 10)))"
   ]
  },
  {
   "cell_type": "code",
   "execution_count": 15,
   "metadata": {},
   "outputs": [],
   "source": [
    "config = AtomformerConfig.from_json_file(\"atomgen/models/configs/atomformer-base.json\")\n",
    "model = AtomformerModel.from_pretrained(\"/mnt/data2/s2ef_all_10epochs_weights/checkpoint-292950\", config=config)"
   ]
  },
  {
   "cell_type": "code",
   "execution_count": 11,
   "metadata": {},
   "outputs": [],
   "source": [
    "import torch"
   ]
  },
  {
   "cell_type": "code",
   "execution_count": 16,
   "metadata": {},
   "outputs": [
    {
     "name": "stderr",
     "output_type": "stream",
     "text": [
      "model.safetensors: 100%|██████████| 482M/482M [04:33<00:00, 1.76MB/s]   \n"
     ]
    },
    {
     "data": {
      "text/plain": [
       "CommitInfo(commit_url='https://huggingface.co/vector-institute/atomformer-base/commit/bd0704547a0a6b4c6225c44c5031f21cd057247a', commit_message='Upload model', commit_description='', oid='bd0704547a0a6b4c6225c44c5031f21cd057247a', pr_url=None, pr_revision=None, pr_num=None)"
      ]
     },
     "execution_count": 16,
     "metadata": {},
     "output_type": "execute_result"
    }
   ],
   "source": [
    "model.push_to_hub(\"vector-institute/atomformer-base\")"
   ]
  }
 ],
 "metadata": {
  "kernelspec": {
   "display_name": "atomgen-Z9zDjZ1G-py3.9",
   "language": "python",
   "name": "python3"
  },
  "language_info": {
   "codemirror_mode": {
    "name": "ipython",
    "version": 3
   },
   "file_extension": ".py",
   "mimetype": "text/x-python",
   "name": "python",
   "nbconvert_exporter": "python",
   "pygments_lexer": "ipython3",
   "version": "3.9.7"
  }
 },
 "nbformat": 4,
 "nbformat_minor": 2
}
